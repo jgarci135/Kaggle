{
  "nbformat": 4,
  "nbformat_minor": 0,
  "metadata": {
    "colab": {
      "name": "Dog_Classification_Joshua_Garcia.ipynb",
      "version": "0.3.2",
      "provenance": [],
      "collapsed_sections": []
    },
    "kernelspec": {
      "display_name": "Python 3",
      "language": "python",
      "name": "python3"
    },
    "accelerator": "GPU"
  },
  "cells": [
    {
      "cell_type": "markdown",
      "metadata": {
        "id": "view-in-github",
        "colab_type": "text"
      },
      "source": [
        "[View in Colaboratory](https://colab.research.google.com/github/jgarci135/Kaggle/blob/master/Dog_Classification_Joshua_Garcia.ipynb)"
      ]
    },
    {
      "metadata": {
        "id": "0FjcrUKDNwSn",
        "colab_type": "code",
        "colab": {
          "base_uri": "https://localhost:8080/",
          "height": 2278
        },
        "outputId": "01e2be6d-2cdd-4452-a62b-3b4c240417b9"
      },
      "cell_type": "code",
      "source": [
        "# Install a Drive FUSE wrapper.\n",
        "# https://github.com/astrada/google-drive-ocamlfuse\n",
        "!apt-get install -y -qq software-properties-common python-software-properties module-init-tools\n",
        "!add-apt-repository -y ppa:alessandro-strada/ppa 2>&1 > /dev/null\n",
        "!apt-get update -qq 2>&1 > /dev/null\n",
        "!apt-get -y install -qq google-drive-ocamlfuse fuse"
      ],
      "execution_count": 3,
      "outputs": [
        {
          "output_type": "stream",
          "text": [
            "Preconfiguring packages ...\n",
            "Selecting previously unselected package cron.\n",
            "(Reading database ... 18298 files and directories currently installed.)\n",
            "Preparing to unpack .../00-cron_3.0pl1-128ubuntu5_amd64.deb ...\n",
            "Unpacking cron (3.0pl1-128ubuntu5) ...\n",
            "Selecting previously unselected package libapparmor1:amd64.\n",
            "Preparing to unpack .../01-libapparmor1_2.11.0-2ubuntu17.1_amd64.deb ...\n",
            "Unpacking libapparmor1:amd64 (2.11.0-2ubuntu17.1) ...\n",
            "Selecting previously unselected package libdbus-1-3:amd64.\n",
            "Preparing to unpack .../02-libdbus-1-3_1.10.22-1ubuntu1_amd64.deb ...\n",
            "Unpacking libdbus-1-3:amd64 (1.10.22-1ubuntu1) ...\n",
            "Selecting previously unselected package dbus.\n",
            "Preparing to unpack .../03-dbus_1.10.22-1ubuntu1_amd64.deb ...\n",
            "Unpacking dbus (1.10.22-1ubuntu1) ...\n",
            "Selecting previously unselected package dirmngr.\n",
            "Preparing to unpack .../04-dirmngr_2.1.15-1ubuntu8_amd64.deb ...\n",
            "Unpacking dirmngr (2.1.15-1ubuntu8) ...\n",
            "Selecting previously unselected package distro-info-data.\n",
            "Preparing to unpack .../05-distro-info-data_0.36ubuntu0.2_all.deb ...\n",
            "Unpacking distro-info-data (0.36ubuntu0.2) ...\n",
            "Selecting previously unselected package libkmod2:amd64.\n",
            "Preparing to unpack .../06-libkmod2_24-1ubuntu2_amd64.deb ...\n",
            "Unpacking libkmod2:amd64 (24-1ubuntu2) ...\n",
            "Selecting previously unselected package kmod.\n",
            "Preparing to unpack .../07-kmod_24-1ubuntu2_amd64.deb ...\n",
            "Unpacking kmod (24-1ubuntu2) ...\n",
            "Selecting previously unselected package lsb-release.\n",
            "Preparing to unpack .../08-lsb-release_9.20160110ubuntu5_all.deb ...\n",
            "Unpacking lsb-release (9.20160110ubuntu5) ...\n",
            "Selecting previously unselected package libgirepository-1.0-1:amd64.\n",
            "Preparing to unpack .../09-libgirepository-1.0-1_1.54.1-1_amd64.deb ...\n",
            "Unpacking libgirepository-1.0-1:amd64 (1.54.1-1) ...\n",
            "Selecting previously unselected package gir1.2-glib-2.0:amd64.\n",
            "Preparing to unpack .../10-gir1.2-glib-2.0_1.54.1-1_amd64.deb ...\n",
            "Unpacking gir1.2-glib-2.0:amd64 (1.54.1-1) ...\n",
            "Selecting previously unselected package iso-codes.\n",
            "Preparing to unpack .../11-iso-codes_3.75-1_all.deb ...\n",
            "Unpacking iso-codes (3.75-1) ...\n",
            "Selecting previously unselected package libdbus-glib-1-2:amd64.\n",
            "Preparing to unpack .../12-libdbus-glib-1-2_0.108-2_amd64.deb ...\n",
            "Unpacking libdbus-glib-1-2:amd64 (0.108-2) ...\n",
            "Selecting previously unselected package python-apt-common.\n",
            "Preparing to unpack .../13-python-apt-common_1.4.0~beta3build2_all.deb ...\n",
            "Unpacking python-apt-common (1.4.0~beta3build2) ...\n",
            "Selecting previously unselected package python3-apt.\n",
            "Preparing to unpack .../14-python3-apt_1.4.0~beta3build2_amd64.deb ...\n",
            "Unpacking python3-apt (1.4.0~beta3build2) ...\n",
            "Selecting previously unselected package python3-dbus.\n",
            "Preparing to unpack .../15-python3-dbus_1.2.4-1build3_amd64.deb ...\n",
            "Unpacking python3-dbus (1.2.4-1build3) ...\n",
            "Selecting previously unselected package python3-gi.\n",
            "Preparing to unpack .../16-python3-gi_3.24.1-2build1_amd64.deb ...\n",
            "Unpacking python3-gi (3.24.1-2build1) ...\n",
            "Selecting previously unselected package module-init-tools.\n",
            "Preparing to unpack .../17-module-init-tools_24-1ubuntu2_all.deb ...\n",
            "Unpacking module-init-tools (24-1ubuntu2) ...\n",
            "Selecting previously unselected package python-apt.\n",
            "Preparing to unpack .../18-python-apt_1.4.0~beta3build2_amd64.deb ...\n",
            "Unpacking python-apt (1.4.0~beta3build2) ...\n",
            "Selecting previously unselected package python-pycurl.\n",
            "Preparing to unpack .../19-python-pycurl_7.43.0-2build2_amd64.deb ...\n",
            "Unpacking python-pycurl (7.43.0-2build2) ...\n",
            "Selecting previously unselected package python-software-properties.\n",
            "Preparing to unpack .../20-python-software-properties_0.96.24.17_all.deb ...\n",
            "Unpacking python-software-properties (0.96.24.17) ...\n",
            "Selecting previously unselected package python3-software-properties.\n",
            "Preparing to unpack .../21-python3-software-properties_0.96.24.17_all.deb ...\n",
            "Unpacking python3-software-properties (0.96.24.17) ...\n",
            "Selecting previously unselected package software-properties-common.\n",
            "Preparing to unpack .../22-software-properties-common_0.96.24.17_all.deb ...\n",
            "Unpacking software-properties-common (0.96.24.17) ...\n",
            "Selecting previously unselected package unattended-upgrades.\n",
            "Preparing to unpack .../23-unattended-upgrades_0.98ubuntu1.1_all.deb ...\n",
            "Unpacking unattended-upgrades (0.98ubuntu1.1) ...\n",
            "Setting up python-apt-common (1.4.0~beta3build2) ...\n",
            "Setting up python3-apt (1.4.0~beta3build2) ...\n",
            "Setting up iso-codes (3.75-1) ...\n",
            "Setting up distro-info-data (0.36ubuntu0.2) ...\n",
            "Setting up python-pycurl (7.43.0-2build2) ...\n",
            "Setting up lsb-release (9.20160110ubuntu5) ...\n",
            "Setting up libgirepository-1.0-1:amd64 (1.54.1-1) ...\n",
            "Setting up libkmod2:amd64 (24-1ubuntu2) ...\n",
            "Setting up gir1.2-glib-2.0:amd64 (1.54.1-1) ...\n",
            "Processing triggers for libc-bin (2.26-0ubuntu2.1) ...\n",
            "Setting up libapparmor1:amd64 (2.11.0-2ubuntu17.1) ...\n"
          ],
          "name": "stdout"
        },
        {
          "output_type": "stream",
          "text": [
            "Setting up unattended-upgrades (0.98ubuntu1.1) ...\n",
            "\n",
            "Creating config file /etc/apt/apt.conf.d/20auto-upgrades with new version\n",
            "\n",
            "Creating config file /etc/apt/apt.conf.d/50unattended-upgrades with new version\n",
            "invoke-rc.d: could not determine current runlevel\n",
            "invoke-rc.d: policy-rc.d denied execution of start.\n",
            "Setting up dirmngr (2.1.15-1ubuntu8) ...\n",
            "Setting up cron (3.0pl1-128ubuntu5) ...\n",
            "Adding group `crontab' (GID 102) ...\n",
            "Done.\n",
            "update-rc.d: warning: start and stop actions are no longer supported; falling back to defaults\n",
            "update-rc.d: warning: stop runlevel arguments (1) do not match cron Default-Stop values (none)\n",
            "invoke-rc.d: could not determine current runlevel\n",
            "invoke-rc.d: policy-rc.d denied execution of start.\n",
            "Setting up libdbus-1-3:amd64 (1.10.22-1ubuntu1) ...\n",
            "Setting up kmod (24-1ubuntu2) ...\n",
            "Setting up libdbus-glib-1-2:amd64 (0.108-2) ...\n",
            "Setting up python3-gi (3.24.1-2build1) ...\n",
            "Setting up module-init-tools (24-1ubuntu2) ...\n",
            "Setting up python3-software-properties (0.96.24.17) ...\n",
            "Setting up dbus (1.10.22-1ubuntu1) ...\n",
            "Setting up python-apt (1.4.0~beta3build2) ...\n",
            "Setting up python3-dbus (1.2.4-1build3) ...\n",
            "Setting up python-software-properties (0.96.24.17) ...\n",
            "Setting up software-properties-common (0.96.24.17) ...\n",
            "Processing triggers for libc-bin (2.26-0ubuntu2.1) ...\n",
            "Processing triggers for dbus (1.10.22-1ubuntu1) ...\n",
            "gpg: keybox '/tmp/tmpz3vjds6v/pubring.gpg' created\n",
            "gpg: /tmp/tmpz3vjds6v/trustdb.gpg: trustdb created\n",
            "gpg: key AD5F235DF639B041: public key \"Launchpad PPA for Alessandro Strada\" imported\n",
            "gpg: Total number processed: 1\n",
            "gpg:               imported: 1\n",
            "Warning: apt-key output should not be parsed (stdout is not a terminal)\n",
            "Selecting previously unselected package libfuse2:amd64.\n",
            "(Reading database ... 19706 files and directories currently installed.)\n",
            "Preparing to unpack .../libfuse2_2.9.7-1ubuntu1_amd64.deb ...\n",
            "Unpacking libfuse2:amd64 (2.9.7-1ubuntu1) ...\n",
            "Selecting previously unselected package fuse.\n",
            "Preparing to unpack .../fuse_2.9.7-1ubuntu1_amd64.deb ...\n",
            "Unpacking fuse (2.9.7-1ubuntu1) ...\n",
            "Selecting previously unselected package google-drive-ocamlfuse.\n",
            "Preparing to unpack .../google-drive-ocamlfuse_0.6.21-0ubuntu2_amd64.deb ...\n",
            "Unpacking google-drive-ocamlfuse (0.6.21-0ubuntu2) ...\n",
            "Setting up libfuse2:amd64 (2.9.7-1ubuntu1) ...\n",
            "Processing triggers for libc-bin (2.26-0ubuntu2.1) ...\n",
            "Setting up fuse (2.9.7-1ubuntu1) ...\n",
            "Setting up google-drive-ocamlfuse (0.6.21-0ubuntu2) ...\n"
          ],
          "name": "stdout"
        }
      ]
    },
    {
      "metadata": {
        "id": "7ikraXipN3ZK",
        "colab_type": "code",
        "colab": {}
      },
      "cell_type": "code",
      "source": [
        "# Generate auth tokens for Colab\n",
        "from google.colab import auth\n",
        "auth.authenticate_user()"
      ],
      "execution_count": 0,
      "outputs": []
    },
    {
      "metadata": {
        "id": "aa91sNq2N35w",
        "colab_type": "code",
        "colab": {
          "base_uri": "https://localhost:8080/",
          "height": 105
        },
        "outputId": "a4e4690c-49f8-449a-ff15-92087524efe4"
      },
      "cell_type": "code",
      "source": [
        "#@title Default title text\n",
        "# Generate creds for the Drive FUSE library.\n",
        "from oauth2client.client import GoogleCredentials\n",
        "creds = GoogleCredentials.get_application_default()\n",
        "import getpass\n",
        "!google-drive-ocamlfuse -headless -id={creds.client_id} -secret={creds.client_secret} < /dev/null 2>&1 | grep URL\n",
        "vcode = getpass.getpass()\n",
        "!echo {vcode} | google-drive-ocamlfuse -headless -id={creds.client_id} -secret={creds.client_secret}"
      ],
      "execution_count": 5,
      "outputs": [
        {
          "output_type": "stream",
          "text": [
            "Please, open the following URL in a web browser: https://accounts.google.com/o/oauth2/auth?client_id=32555940559.apps.googleusercontent.com&redirect_uri=urn%3Aietf%3Awg%3Aoauth%3A2.0%3Aoob&scope=https%3A%2F%2Fwww.googleapis.com%2Fauth%2Fdrive&response_type=code&access_type=offline&approval_prompt=force\r\n",
            "··········\n",
            "Please, open the following URL in a web browser: https://accounts.google.com/o/oauth2/auth?client_id=32555940559.apps.googleusercontent.com&redirect_uri=urn%3Aietf%3Awg%3Aoauth%3A2.0%3Aoob&scope=https%3A%2F%2Fwww.googleapis.com%2Fauth%2Fdrive&response_type=code&access_type=offline&approval_prompt=force\n",
            "Please enter the verification code: Access token retrieved correctly.\n"
          ],
          "name": "stdout"
        }
      ]
    },
    {
      "metadata": {
        "id": "9Y8YK3XuN5tP",
        "colab_type": "code",
        "colab": {}
      },
      "cell_type": "code",
      "source": [
        "# Create a directory and mount Google Drive using that directory.\n",
        "!mkdir -p drive\n",
        "!google-drive-ocamlfuse drive"
      ],
      "execution_count": 0,
      "outputs": []
    },
    {
      "metadata": {
        "id": "bp-ATGV-N7Nf",
        "colab_type": "code",
        "colab": {}
      },
      "cell_type": "code",
      "source": [
        "# Create a folder to use the competition. once this is run there is no longer a need to run again. The directory should be present in the Google Drive\n",
        "!mkdir -p /content/drive/competition/"
      ],
      "execution_count": 0,
      "outputs": []
    },
    {
      "metadata": {
        "id": "a0bap0iB6GAI",
        "colab_type": "code",
        "colab": {
          "base_uri": "https://localhost:8080/",
          "height": 87
        },
        "outputId": "3d0ced53-cd50-49c4-ec42-51945ff24259"
      },
      "cell_type": "code",
      "source": [
        "!ls /content/drive/competition/ "
      ],
      "execution_count": 5,
      "outputs": [
        {
          "output_type": "stream",
          "text": [
            "colab_test.ipynb      dogweight.h5\t     test\t     train_valid_test\r\n",
            "colabtest.ipynb       drive\t\t     testdata.hdf5\r\n",
            "Copy of dogweight.h5  labels.csv\t     train\r\n",
            "dogbreed_subm.csv     sample_submission.csv  traindata.hdf5\r\n"
          ],
          "name": "stdout"
        }
      ]
    },
    {
      "metadata": {
        "id": "9OymCAdjt8ql",
        "colab_type": "code",
        "colab": {
          "base_uri": "https://localhost:8080/",
          "height": 34
        },
        "outputId": "c986f89e-8d76-4d06-a5ce-efe9694ab407"
      },
      "cell_type": "code",
      "source": [
        "import os\n",
        "import time\n",
        "import cv2\n",
        "import pandas as pd\n",
        "%matplotlib inline\n",
        "import matplotlib\n",
        "import numpy\n",
        "import numpy as np\n",
        "import matplotlib.pyplot as plt\n",
        "import PIL\n",
        "import math\n",
        "import shutil\n",
        "import keras \n",
        "import h5py\n",
        "import glob\n",
        "import random\n",
        "from PIL import Image\n",
        "from keras.utils import np_utils\n",
        "from keras.utils import to_categorical\n",
        "from keras.datasets import cifar10\n",
        "from keras.preprocessing.image import ImageDataGenerator, array_to_img, img_to_array, load_img\n",
        "from keras.models import Sequential\n",
        "from keras.models import Model\n",
        "from keras.layers import Input, Concatenate, Dense, Dropout, Activation, Flatten\n",
        "from keras.layers.normalization import BatchNormalization\n",
        "from keras.layers import Conv2D, MaxPooling2D\n",
        "from keras.optimizers import SGD, Adam\n",
        "from keras.callbacks import ModelCheckpoint\n",
        "from keras.layers.convolutional import Convolution2D, MaxPooling2D\n",
        "from collections import Counter\n",
        "from sklearn import preprocessing\n",
        "from sklearn.preprocessing import LabelEncoder\n",
        "from sklearn.metrics import log_loss\n",
        "from scipy.misc import imread, imresize\n",
        "from IPython.display import display, Image\n",
        "from IPython.core.display import HTML\n",
        " \n",
        "\n"
      ],
      "execution_count": 7,
      "outputs": [
        {
          "output_type": "stream",
          "text": [
            "Using TensorFlow backend.\n"
          ],
          "name": "stderr"
        }
      ]
    },
    {
      "metadata": {
        "id": "KtHwYGU8vOYz",
        "colab_type": "code",
        "colab": {}
      },
      "cell_type": "code",
      "source": [
        "#Create train and test paths. pointers created on local\n",
        "train_path = os.path.join('/Users/Family/Documents/Kaggle/Dog breed id/train/')\n",
        "test_path = os.path.join('/Users/Family/Documents/Kaggle/Dog breed id/test')"
      ],
      "execution_count": 0,
      "outputs": []
    },
    {
      "metadata": {
        "id": "Rx7_p2jyzZ_h",
        "colab_type": "code",
        "colab": {}
      },
      "cell_type": "code",
      "source": [
        "#Create train and test paths. pointers created for Google drive\n",
        "train_path = os.path.join('/content/drive/competition/train/')\n",
        "test_path = os.path.join('/content/drive/competition/test/')"
      ],
      "execution_count": 0,
      "outputs": []
    },
    {
      "metadata": {
        "id": "Hk8p3XnvwDqt",
        "colab_type": "code",
        "colab": {}
      },
      "cell_type": "code",
      "source": [
        "#Examine the files in train folder.\n",
        "n_train = len(os.listdir(train_path))\n",
        "sample_idxs = np.random.choice(n_train, 5, replace=False)\n",
        " \n",
        "for idx in sample_idxs:\n",
        "# Choose a random file from the training data directory.\n",
        "    filename = os.listdir(train_path)[idx]\n",
        " \n",
        "# Display the image contained in the chosen file.\n",
        "    image = Image(os.path.join(train_path, filename))\n",
        "    display(image)"
      ],
      "execution_count": 0,
      "outputs": []
    },
    {
      "metadata": {
        "id": "ugyJo3k_buK_",
        "colab_type": "code",
        "colab": {}
      },
      "cell_type": "code",
      "source": [
        "#sort the training and test files.\n",
        "train_files = sorted(glob.glob(train_path+'*.jpg'))\n",
        "test_files = sorted(glob.glob(test_path+'*.jpg'))"
      ],
      "execution_count": 0,
      "outputs": []
    },
    {
      "metadata": {
        "id": "9pNXRcomxJko",
        "colab_type": "code",
        "colab": {}
      },
      "cell_type": "code",
      "source": [
        "#Examine train files after sorting\n",
        "train_files"
      ],
      "execution_count": 0,
      "outputs": []
    },
    {
      "metadata": {
        "id": "QxMABhDKc0Q_",
        "colab_type": "code",
        "colab": {
          "base_uri": "https://localhost:8080/",
          "height": 34
        },
        "outputId": "a124ed88-21e3-49b7-db7d-753a90b7ee7e"
      },
      "cell_type": "code",
      "source": [
        "#Show number of files in the training file path.\n",
        "len(train_files)"
      ],
      "execution_count": 97,
      "outputs": [
        {
          "output_type": "execute_result",
          "data": {
            "text/plain": [
              "10259"
            ]
          },
          "metadata": {
            "tags": []
          },
          "execution_count": 97
        }
      ]
    },
    {
      "metadata": {
        "id": "3Qp0C53sdSIb",
        "colab_type": "code",
        "colab": {
          "base_uri": "https://localhost:8080/",
          "height": 34
        },
        "outputId": "1c4900fa-16c1-4dd6-e3cf-fe8be8a53011"
      },
      "cell_type": "code",
      "source": [
        "c0 = plt.imread(train_files[0]) #read file path to an image, now c0 is a numpy image\n",
        "print(c0.shape)"
      ],
      "execution_count": 98,
      "outputs": [
        {
          "output_type": "stream",
          "text": [
            "(375, 500, 3)\n"
          ],
          "name": "stdout"
        }
      ]
    },
    {
      "metadata": {
        "id": "f7Z28BR4dsgZ",
        "colab_type": "code",
        "colab": {}
      },
      "cell_type": "code",
      "source": [
        "#Define a function to resize the images to uniformity with cv2\n",
        "def rescale(im):\n",
        "    return cv2.resize(im, (128,128), interpolation = cv2.INTER_AREA)\n",
        "#Call function to create the vector from train data\n",
        "X=[]\n",
        "for train in train_files:\n",
        "    X.append(rescale(plt.imread(train)))"
      ],
      "execution_count": 0,
      "outputs": []
    },
    {
      "metadata": {
        "id": "na-4xBd0h28l",
        "colab_type": "code",
        "colab": {
          "base_uri": "https://localhost:8080/",
          "height": 180
        },
        "outputId": "b2ba355f-d25e-4fec-e4e9-0cc005fd9d02"
      },
      "cell_type": "code",
      "source": [
        "#Create a numpy array and print the shape from the vector of images. (This method was compared but not used to one used later in notebook)\n",
        "X = np.array(X)\n",
        "print(X.shape)"
      ],
      "execution_count": 0,
      "outputs": [
        {
          "output_type": "stream",
          "text": [
            "(10222, 128, 128, 3)\n"
          ],
          "name": "stdout"
        }
      ]
    },
    {
      "metadata": {
        "id": "UYYLZ0d6xJl1",
        "colab_type": "code",
        "colab": {},
        "outputId": "54bafa70-a815-48a4-f134-125ba8c1f38c"
      },
      "cell_type": "code",
      "source": [
        "#Print information about X\n",
        "print(X.dtype)\n",
        "print(X.mean())\n",
        "print(X.max())\n",
        "print(X.min())\n",
        "print(X.nbytes/10**9) #size of file in GB"
      ],
      "execution_count": 0,
      "outputs": [
        {
          "output_type": "stream",
          "text": [
            "uint8\n",
            "112.29569887606465\n",
            "255\n",
            "0\n",
            "0.502431744\n"
          ],
          "name": "stdout"
        }
      ]
    },
    {
      "metadata": {
        "id": "v76NnZ5sxJl4",
        "colab_type": "code",
        "colab": {}
      },
      "cell_type": "code",
      "source": [
        "#X not used later and was deleted\n",
        "del X"
      ],
      "execution_count": 0,
      "outputs": []
    },
    {
      "metadata": {
        "id": "YWTq_BrMti72",
        "colab_type": "code",
        "colab": {
          "base_uri": "https://localhost:8080/",
          "height": 68
        },
        "outputId": "e63dcf8e-ab02-4d6a-f905-f39fda5b1555"
      },
      "cell_type": "code",
      "source": [
        "!ls '/content/drive/competition/'"
      ],
      "execution_count": 30,
      "outputs": [
        {
          "output_type": "stream",
          "text": [
            "colab_test.ipynb  sample_submission.csv  train\r\n",
            "colabtest.ipynb   test\t\t\t traindata.hdf5\r\n",
            "labels.csv\t  testdata.hdf5\t\t train_valid_test\r\n"
          ],
          "name": "stdout"
        }
      ]
    },
    {
      "metadata": {
        "id": "sxm9jHiePEG7",
        "colab_type": "code",
        "colab": {}
      },
      "cell_type": "code",
      "source": [
        "#Create labels from CSV. Used after loaded to Colab and needed differing path. First path refelcted local machine path.\n",
        "train_labels_path = os.path.join('/content/drive/competition/','labels.csv')\n",
        "train_labels = pd.read_csv(train_labels_path)"
      ],
      "execution_count": 0,
      "outputs": []
    },
    {
      "metadata": {
        "id": "Wcx_gBR6w0OH",
        "colab_type": "code",
        "colab": {
          "base_uri": "https://localhost:8080/",
          "height": 51
        },
        "outputId": "2afc2178-22c6-4666-f4ad-9f66265f5120"
      },
      "cell_type": "code",
      "source": [
        "# Get the number of training, testing data.\n",
        "n_train, n_test = len(os.listdir(train_path)), len(os.listdir(test_path))\n",
        " \n",
        "# Print them out!\n",
        "print('No. training data:', n_train)\n",
        "print('No. test data:', n_test)"
      ],
      "execution_count": 0,
      "outputs": [
        {
          "output_type": "stream",
          "text": [
            "No. training data: 10222\n",
            "No. test data: 10357\n"
          ],
          "name": "stdout"
        }
      ]
    },
    {
      "metadata": {
        "id": "tMidUqHPxUzv",
        "colab_type": "code",
        "colab": {
          "base_uri": "https://localhost:8080/",
          "height": 359
        },
        "outputId": "cd0618f9-4ea5-40fb-a2ad-05e088079395"
      },
      "cell_type": "code",
      "source": [
        "# Load the training data labels using pandas (for .csv files, it's quite fast). This is the version for local computer.\n",
        "train_labels_path = os.path.join('/Users/Family/Documents/Kaggle/Dog breed id/','labels.csv')\n",
        "train_labels = pd.read_csv(train_labels_path)\n",
        " \n",
        "# Show the first 10 lines of the DataFrame containing fields \"id\" and \"breed\".\n",
        "train_labels.head(10)"
      ],
      "execution_count": 0,
      "outputs": [
        {
          "output_type": "execute_result",
          "data": {
            "text/html": [
              "<div>\n",
              "<style scoped>\n",
              "    .dataframe tbody tr th:only-of-type {\n",
              "        vertical-align: middle;\n",
              "    }\n",
              "\n",
              "    .dataframe tbody tr th {\n",
              "        vertical-align: top;\n",
              "    }\n",
              "\n",
              "    .dataframe thead th {\n",
              "        text-align: right;\n",
              "    }\n",
              "</style>\n",
              "<table border=\"1\" class=\"dataframe\">\n",
              "  <thead>\n",
              "    <tr style=\"text-align: right;\">\n",
              "      <th></th>\n",
              "      <th>id</th>\n",
              "      <th>breed</th>\n",
              "    </tr>\n",
              "  </thead>\n",
              "  <tbody>\n",
              "    <tr>\n",
              "      <th>0</th>\n",
              "      <td>000bec180eb18c7604dcecc8fe0dba07</td>\n",
              "      <td>boston_bull</td>\n",
              "    </tr>\n",
              "    <tr>\n",
              "      <th>1</th>\n",
              "      <td>001513dfcb2ffafc82cccf4d8bbaba97</td>\n",
              "      <td>dingo</td>\n",
              "    </tr>\n",
              "    <tr>\n",
              "      <th>2</th>\n",
              "      <td>001cdf01b096e06d78e9e5112d419397</td>\n",
              "      <td>pekinese</td>\n",
              "    </tr>\n",
              "    <tr>\n",
              "      <th>3</th>\n",
              "      <td>00214f311d5d2247d5dfe4fe24b2303d</td>\n",
              "      <td>bluetick</td>\n",
              "    </tr>\n",
              "    <tr>\n",
              "      <th>4</th>\n",
              "      <td>0021f9ceb3235effd7fcde7f7538ed62</td>\n",
              "      <td>golden_retriever</td>\n",
              "    </tr>\n",
              "    <tr>\n",
              "      <th>5</th>\n",
              "      <td>002211c81b498ef88e1b40b9abf84e1d</td>\n",
              "      <td>bedlington_terrier</td>\n",
              "    </tr>\n",
              "    <tr>\n",
              "      <th>6</th>\n",
              "      <td>00290d3e1fdd27226ba27a8ce248ce85</td>\n",
              "      <td>bedlington_terrier</td>\n",
              "    </tr>\n",
              "    <tr>\n",
              "      <th>7</th>\n",
              "      <td>002a283a315af96eaea0e28e7163b21b</td>\n",
              "      <td>borzoi</td>\n",
              "    </tr>\n",
              "    <tr>\n",
              "      <th>8</th>\n",
              "      <td>003df8b8a8b05244b1d920bb6cf451f9</td>\n",
              "      <td>basenji</td>\n",
              "    </tr>\n",
              "    <tr>\n",
              "      <th>9</th>\n",
              "      <td>0042188c895a2f14ef64a918ed9c7b64</td>\n",
              "      <td>scottish_deerhound</td>\n",
              "    </tr>\n",
              "  </tbody>\n",
              "</table>\n",
              "</div>"
            ],
            "text/plain": [
              "                                 id               breed\n",
              "0  000bec180eb18c7604dcecc8fe0dba07         boston_bull\n",
              "1  001513dfcb2ffafc82cccf4d8bbaba97               dingo\n",
              "2  001cdf01b096e06d78e9e5112d419397            pekinese\n",
              "3  00214f311d5d2247d5dfe4fe24b2303d            bluetick\n",
              "4  0021f9ceb3235effd7fcde7f7538ed62    golden_retriever\n",
              "5  002211c81b498ef88e1b40b9abf84e1d  bedlington_terrier\n",
              "6  00290d3e1fdd27226ba27a8ce248ce85  bedlington_terrier\n",
              "7  002a283a315af96eaea0e28e7163b21b              borzoi\n",
              "8  003df8b8a8b05244b1d920bb6cf451f9             basenji\n",
              "9  0042188c895a2f14ef64a918ed9c7b64  scottish_deerhound"
            ]
          },
          "metadata": {
            "tags": []
          },
          "execution_count": 19
        }
      ]
    },
    {
      "metadata": {
        "id": "p9rB5pNgywLq",
        "colab_type": "code",
        "colab": {
          "base_uri": "https://localhost:8080/",
          "height": 173
        },
        "outputId": "c10255c3-e261-4a0b-ea43-8adcef552dfc"
      },
      "cell_type": "code",
      "source": [
        "# Use the DataFrame function `describe` function to see a short summary of the data.\n",
        "train_labels.describe()"
      ],
      "execution_count": 0,
      "outputs": [
        {
          "output_type": "execute_result",
          "data": {
            "text/html": [
              "<div>\n",
              "<style scoped>\n",
              "    .dataframe tbody tr th:only-of-type {\n",
              "        vertical-align: middle;\n",
              "    }\n",
              "\n",
              "    .dataframe tbody tr th {\n",
              "        vertical-align: top;\n",
              "    }\n",
              "\n",
              "    .dataframe thead th {\n",
              "        text-align: right;\n",
              "    }\n",
              "</style>\n",
              "<table border=\"1\" class=\"dataframe\">\n",
              "  <thead>\n",
              "    <tr style=\"text-align: right;\">\n",
              "      <th></th>\n",
              "      <th>id</th>\n",
              "      <th>breed</th>\n",
              "    </tr>\n",
              "  </thead>\n",
              "  <tbody>\n",
              "    <tr>\n",
              "      <th>count</th>\n",
              "      <td>10222</td>\n",
              "      <td>10222</td>\n",
              "    </tr>\n",
              "    <tr>\n",
              "      <th>unique</th>\n",
              "      <td>10222</td>\n",
              "      <td>120</td>\n",
              "    </tr>\n",
              "    <tr>\n",
              "      <th>top</th>\n",
              "      <td>814a9fc5db2614bbe59328c16496b50e</td>\n",
              "      <td>scottish_deerhound</td>\n",
              "    </tr>\n",
              "    <tr>\n",
              "      <th>freq</th>\n",
              "      <td>1</td>\n",
              "      <td>126</td>\n",
              "    </tr>\n",
              "  </tbody>\n",
              "</table>\n",
              "</div>"
            ],
            "text/plain": [
              "                                      id               breed\n",
              "count                              10222               10222\n",
              "unique                             10222                 120\n",
              "top     814a9fc5db2614bbe59328c16496b50e  scottish_deerhound\n",
              "freq                                   1                 126"
            ]
          },
          "metadata": {
            "tags": []
          },
          "execution_count": 11
        }
      ]
    },
    {
      "metadata": {
        "id": "ssAPhq8TzVM1",
        "colab_type": "code",
        "colab": {}
      },
      "cell_type": "code",
      "source": [
        "def read_img(ID, train=True, size=(128, 128)):\n",
        "  \"\"\"\n",
        "  Read and resize a single image.\n",
        " \n",
        "  - Arguments:\n",
        "  ID (str): ID of image to be read.\n",
        "  train (bool): Whether this is a training or test image.\n",
        "  size (tuple(int)): The new size of the image.\n",
        " \n",
        "  - Returns:\n",
        "  Image as numpy.ndarray.\n",
        "  \"\"\"\n",
        "  # Get the image from disk using pillow.\n",
        "  if train:\n",
        "    image = PIL.Image.open(os.path.join(train_path, '%s.jpg' % ID))\n",
        "  else:\n",
        "    image = PIL.Image.open(os.path.join(test_path, '%s.jpg' % ID))\n",
        " \n",
        "  # Cast the Pillow image to a numpy.ndarray and return it.\n",
        "  image = np.array(image.resize(size))\n",
        "  return image"
      ],
      "execution_count": 0,
      "outputs": []
    },
    {
      "metadata": {
        "id": "TcVVMN9Qz7Wa",
        "colab_type": "code",
        "colab": {
          "base_uri": "https://localhost:8080/",
          "height": 51
        },
        "outputId": "d4f3b3d4-6739-4491-e883-108217f46868"
      },
      "cell_type": "code",
      "source": [
        "# Create an array of shape (n, W, H, D) containing all the training data.\n",
        "X_train = np.array([ read_img(ID.split('.')[0]) for ID in sorted(os.listdir(train_path)) ])\n",
        " \n",
        "print('Shape of training data (n, W, H, D):', X_train.shape)\n",
        " \n",
        "# Save out the pre-processed training, validation data to disk.\n",
        "np.save(os.path.join('/Users/Family/Documents/Kaggle/Dog breed id/', 'X_train.npy'), X_train)\n",
        " \n",
        "del X_train"
      ],
      "execution_count": 0,
      "outputs": [
        {
          "output_type": "stream",
          "text": [
            "Shape of training data (N, W, H, D): (10222, 128, 128, 3)\n"
          ],
          "name": "stdout"
        }
      ]
    },
    {
      "metadata": {
        "id": "RmXJh2xM8ASC",
        "colab_type": "code",
        "colab": {}
      },
      "cell_type": "code",
      "source": [
        "# Create a mapping from dog breeds categories to unique integer labels.\n",
        "breeds = sorted(train_labels['breed'].unique())\n",
        "class_map = { breed : idx for idx, breed in enumerate(breeds) }\n",
        "inverse_class_map = { idx : breed for breed, idx in class_map.items()}"
      ],
      "execution_count": 0,
      "outputs": []
    },
    {
      "metadata": {
        "id": "aHtuhavb8FYU",
        "colab_type": "code",
        "colab": {
          "base_uri": "https://localhost:8080/",
          "height": 350
        },
        "outputId": "6f04c7e6-1155-4551-e4fc-06dd267bf594"
      },
      "cell_type": "code",
      "source": [
        "# Create a 1D array of shape (n,) contained all the training labels.\n",
        "y_train = np.array([ class_map[train_labels[train_labels['id'] == ID.split('.')[0]]['breed'].tolist()[0]] for  ID in sorted(os.listdir(train_path)) ])\n",
        "  \n",
        " \n",
        "print('Shape of training labels (n,):', y_train.shape)\n",
        " \n",
        "# Save out the pre-processed training, validation labels to disk.\n",
        "np.save(os.path.join('/Users/Family/Documents/Kaggle/Dog breed id/', 'y_train.npy'), y_train)\n",
        " \n",
        "del y_train"
      ],
      "execution_count": 0,
      "outputs": [
        {
          "output_type": "stream",
          "text": [
            "Shape of training labels (N, K): (10222,)\n"
          ],
          "name": "stdout"
        }
      ]
    },
    {
      "metadata": {
        "id": "XYMKVYbT8MKo",
        "colab_type": "code",
        "colab": {},
        "outputId": "ca226bf5-5e2a-4f47-cbc4-6e48b1daffd8"
      },
      "cell_type": "code",
      "source": [
        "# Create an array of shape (n, W, H, D) containing all the training data.\n",
        "X_test = np.array([ read_img(ID.split('.')[0], train=False) for ID in sorted(os.listdir(test_path)) ])\n",
        " \n",
        "print('Shape of test data (n, W, H, D):', X_test.shape)\n",
        " \n",
        "# Save out the pre-processed training data to disk.\n",
        "np.save(os.path.join('/Users/Family/Documents/Kaggle/Dog breed id/', 'X_test.npy'), X_test)\n",
        " \n",
        "del X_test"
      ],
      "execution_count": 0,
      "outputs": [
        {
          "output_type": "stream",
          "text": [
            "Shape of test data (N, W, H, D): (10357, 128, 128, 3)\n"
          ],
          "name": "stdout"
        }
      ]
    },
    {
      "metadata": {
        "id": "YexaGRByxJns",
        "colab_type": "code",
        "colab": {}
      },
      "cell_type": "code",
      "source": [
        "#Each of the numpy arrays must be loaded again for futher processing\n",
        "y_train = np.load('/Users/Family/Documents/Kaggle/Dog breed id/y_train.npy')\n",
        "X_train = np.load('/Users/Family/Documents/Kaggle/Dog breed id/X_train.npy')\n",
        "X_test = np.load('/Users/Family/Documents/Kaggle/Dog breed id/X_test.npy')\n",
        "\n"
      ],
      "execution_count": 0,
      "outputs": []
    },
    {
      "metadata": {
        "id": "pIzihkzHxJns",
        "colab_type": "code",
        "colab": {},
        "outputId": "0f310a54-e2db-4874-b1bf-4eaf3eecf316"
      },
      "cell_type": "code",
      "source": [
        "#Encode y to categoical\n",
        "Y = to_categorical(y_train)\n",
        "print('Number of samples, categories',Y.shape)"
      ],
      "execution_count": 0,
      "outputs": [
        {
          "output_type": "stream",
          "text": [
            "(10222, 120)\n"
          ],
          "name": "stdout"
        }
      ]
    },
    {
      "metadata": {
        "id": "fmzl14whxJn7",
        "colab_type": "code",
        "colab": {},
        "outputId": "04c6b116-ae68-4e88-e1b9-76393edc8b33"
      },
      "cell_type": "code",
      "source": [
        "# Shuffle training data. It's good to use index shuffling.\n",
        "ind = np.array(list(range(10222)))\n",
        "np.random.shuffle(ind)\n",
        "print(ind[:10]) #check the shuffling\n"
      ],
      "execution_count": 0,
      "outputs": [
        {
          "output_type": "stream",
          "text": [
            "[ 577  228 3157 9970  476 1209 6284 7177 3054 7257]\n"
          ],
          "name": "stdout"
        }
      ]
    },
    {
      "metadata": {
        "id": "ni4j3m_1xJn7",
        "colab_type": "code",
        "colab": {}
      },
      "cell_type": "code",
      "source": [
        "#Shuffle the data\n",
        "Xs = X_train[ind]\n",
        "Yx = Y[ind]"
      ],
      "execution_count": 0,
      "outputs": []
    },
    {
      "metadata": {
        "id": "6PhOSTcXxJoN",
        "colab_type": "code",
        "colab": {},
        "outputId": "595d3583-a953-4e8e-cfb7-d031b059d8ae"
      },
      "cell_type": "code",
      "source": [
        "#Plot image 1 before shuffle\n",
        "plt.imshow(X_train[0])"
      ],
      "execution_count": 0,
      "outputs": [
        {
          "output_type": "execute_result",
          "data": {
            "text/plain": [
              "<matplotlib.image.AxesImage at 0x26db7d3ed30>"
            ]
          },
          "metadata": {
            "tags": []
          },
          "execution_count": 29
        },
        {
          "output_type": "display_data",
          "data": {
            "image/png": "[encoded data removed]",
            "text/plain": [
              "<Figure size 432x288 with 1 Axes>"
            ]
          },
          "metadata": {
            "tags": []
          }
        }
      ]
    },
    {
      "metadata": {
        "id": "WYYcKP72xJoS",
        "colab_type": "code",
        "colab": {},
        "outputId": "5e40d56b-c865-4e8f-c997-162bb19696e8"
      },
      "cell_type": "code",
      "source": [
        "#Plot image 1 after shuffle (they should be different)\n",
        "plt.imshow(Xs[0])"
      ],
      "execution_count": 0,
      "outputs": [
        {
          "output_type": "execute_result",
          "data": {
            "text/plain": [
              "<matplotlib.image.AxesImage at 0x26da3ae2390>"
            ]
          },
          "metadata": {
            "tags": []
          },
          "execution_count": 30
        },
        {
          "output_type": "display_data",
          "data": {
            "image/png": "[encoded data removed]",
            "text/plain": [
              "<Figure size 432x288 with 1 Axes>"
            ]
          },
          "metadata": {
            "tags": []
          }
        }
      ]
    },
    {
      "metadata": {
        "id": "_3L-ei-OxJoc",
        "colab_type": "code",
        "colab": {},
        "outputId": "f5403ded-aaf9-424a-8cac-46d6e1c8c6a8"
      },
      "cell_type": "code",
      "source": [
        "#The one hot encoded training should also be different from each other before and after shuffle.\n",
        "print(Y[0], Yx[0]) "
      ],
      "execution_count": 0,
      "outputs": [
        {
          "output_type": "stream",
          "text": [
            "[0. 0. 0. 0. 0. 0. 0. 0. 0. 0. 0. 0. 0. 0. 0. 0. 0. 0. 0. 1. 0. 0. 0. 0.\n",
            " 0. 0. 0. 0. 0. 0. 0. 0. 0. 0. 0. 0. 0. 0. 0. 0. 0. 0. 0. 0. 0. 0. 0. 0.\n",
            " 0. 0. 0. 0. 0. 0. 0. 0. 0. 0. 0. 0. 0. 0. 0. 0. 0. 0. 0. 0. 0. 0. 0. 0.\n",
            " 0. 0. 0. 0. 0. 0. 0. 0. 0. 0. 0. 0. 0. 0. 0. 0. 0. 0. 0. 0. 0. 0. 0. 0.\n",
            " 0. 0. 0. 0. 0. 0. 0. 0. 0. 0. 0. 0. 0. 0. 0. 0. 0. 0. 0. 0. 0. 0. 0. 0.] [1. 0. 0. 0. 0. 0. 0. 0. 0. 0. 0. 0. 0. 0. 0. 0. 0. 0. 0. 0. 0. 0. 0. 0.\n",
            " 0. 0. 0. 0. 0. 0. 0. 0. 0. 0. 0. 0. 0. 0. 0. 0. 0. 0. 0. 0. 0. 0. 0. 0.\n",
            " 0. 0. 0. 0. 0. 0. 0. 0. 0. 0. 0. 0. 0. 0. 0. 0. 0. 0. 0. 0. 0. 0. 0. 0.\n",
            " 0. 0. 0. 0. 0. 0. 0. 0. 0. 0. 0. 0. 0. 0. 0. 0. 0. 0. 0. 0. 0. 0. 0. 0.\n",
            " 0. 0. 0. 0. 0. 0. 0. 0. 0. 0. 0. 0. 0. 0. 0. 0. 0. 0. 0. 0. 0. 0. 0. 0.]\n"
          ],
          "name": "stdout"
        }
      ]
    },
    {
      "metadata": {
        "id": "aAXUighpxJoo",
        "colab_type": "code",
        "colab": {},
        "outputId": "476d4699-62d4-4ec9-b4a9-bfc68997c547"
      },
      "cell_type": "code",
      "source": [
        "#Check data of train for comparison before data is normalized and changed to 32bit\n",
        "print(X_train.dtype)\n",
        "print(X_train.mean())\n",
        "print(X_train.max())\n",
        "print(X_train.min())\n",
        "print(X_train.nbytes/10**9)"
      ],
      "execution_count": 0,
      "outputs": [
        {
          "output_type": "stream",
          "text": [
            "uint8\n",
            "112.29633047827488\n",
            "255\n",
            "0\n",
            "0.502431744\n"
          ],
          "name": "stdout"
        }
      ]
    },
    {
      "metadata": {
        "id": "j6CqS5STxJoy",
        "colab_type": "code",
        "colab": {}
      },
      "cell_type": "code",
      "source": [
        "#Due to resource limits delete large varibles no longer needed(these are now used as Xs and Yx)\n",
        "del X_train\n",
        "\n",
        "del y_train"
      ],
      "execution_count": 0,
      "outputs": []
    },
    {
      "metadata": {
        "id": "PGcmLxW0xJpD",
        "colab_type": "code",
        "colab": {}
      },
      "cell_type": "code",
      "source": [
        "#Yx does not need to be normalized as it is categorical\n",
        "del Yx"
      ],
      "execution_count": 0,
      "outputs": []
    },
    {
      "metadata": {
        "id": "lrnXtT7xxJpL",
        "colab_type": "code",
        "colab": {},
        "outputId": "63fdf26a-021f-404d-9f9b-6f029a632b5a"
      },
      "cell_type": "code",
      "source": [
        "#Quick check that data type and max pixel value have not changed from X_train\n",
        "print(Xs.dtype)\n",
        "print(Xs.max())\n"
      ],
      "execution_count": 0,
      "outputs": [
        {
          "output_type": "stream",
          "text": [
            "uint8\n",
            "255\n"
          ],
          "name": "stdout"
        }
      ]
    },
    {
      "metadata": {
        "id": "XtgcCaXExJpU",
        "colab_type": "code",
        "colab": {},
        "outputId": "c763ca34-9652-479e-9be6-4bacf8c38a6e"
      },
      "cell_type": "code",
      "source": [
        "#Normalization (file size quadurpaled)\n",
        "Xs = (Xs-127.5)/255\n",
        "print(Xs.dtype)\n",
        "print(Xs.mean())\n",
        "print(Xs.max())\n",
        "print(Xs.min())\n",
        "print(Xs.nbytes/10**9)"
      ],
      "execution_count": 0,
      "outputs": [
        {
          "output_type": "stream",
          "text": [
            "float64\n",
            "-0.059622233418529555\n",
            "0.5\n",
            "-0.5\n",
            "4.019453952\n"
          ],
          "name": "stdout"
        }
      ]
    },
    {
      "metadata": {
        "id": "YpKwi48cxJpj",
        "colab_type": "code",
        "colab": {},
        "outputId": "c21f333d-8a53-4a76-e204-5425e5c0dc1b"
      },
      "cell_type": "code",
      "source": [
        "# Save disk space and change the dtype to float32\n",
        "Xs = Xs.astype('float32')\n",
        "print(Xs.dtype)\n",
        "print(Xs.nbytes/10**9) # should be half the size in GB"
      ],
      "execution_count": 0,
      "outputs": [
        {
          "output_type": "stream",
          "text": [
            "float32\n",
            "2.009726976\n"
          ],
          "name": "stdout"
        }
      ]
    },
    {
      "metadata": {
        "id": "o9wKrlHExJpr",
        "colab_type": "code",
        "colab": {}
      },
      "cell_type": "code",
      "source": [
        "#Create a h5py file which is easy to use when saving and calling data sets\n",
        "os.chdir('/Users/Family/Documents/Kaggle/Dog breed id/')\n",
        "with h5py.File('traindata.hdf5','w') as f:\n",
        "    f.create_dataset('X', data=Xs)\n",
        "    f.create_dataset('Y', data=Yx)"
      ],
      "execution_count": 0,
      "outputs": []
    },
    {
      "metadata": {
        "id": "wq2VAfmAxJpw",
        "colab_type": "code",
        "colab": {},
        "outputId": "7bf611f1-7adb-40a5-b779-7965e5ab41ca"
      },
      "cell_type": "code",
      "source": [
        "#Normalize and change test data to match the train set.\n",
        "#Check data in this block.\n",
        "print(X_test.dtype)\n",
        "print(X_test.mean())\n",
        "print(X_test.max())\n",
        "print(X_test.min())\n",
        "print(X_test.nbytes/10**9)"
      ],
      "execution_count": 0,
      "outputs": [
        {
          "output_type": "stream",
          "text": [
            "uint8\n",
            "112.01546919740649\n",
            "255\n",
            "0\n",
            "0.509067264\n"
          ],
          "name": "stdout"
        }
      ]
    },
    {
      "metadata": {
        "id": "h1b879d4xJp3",
        "colab_type": "code",
        "colab": {}
      },
      "cell_type": "code",
      "source": [
        "#Simple normilization of X_test\n",
        "X_test = (X_test-127.5)/255"
      ],
      "execution_count": 0,
      "outputs": []
    },
    {
      "metadata": {
        "id": "sKRA-J00xJqG",
        "colab_type": "code",
        "colab": {}
      },
      "cell_type": "code",
      "source": [
        "#Change type from float64 to float 32 to save on file space and resource needs.\n",
        "X_test = X_test.astype('float32')"
      ],
      "execution_count": 0,
      "outputs": []
    },
    {
      "metadata": {
        "id": "pH2_IjadxJqG",
        "colab_type": "code",
        "colab": {},
        "outputId": "4671500a-7370-46a8-b9d8-695fa9e6e0af"
      },
      "cell_type": "code",
      "source": [
        "#Check that test also has been normalized and file size reduced.\n",
        "print(X_test.dtype)\n",
        "print(X_test.mean())\n",
        "print(X_test.max())\n",
        "print(X_test.min())\n",
        "print(X_test.nbytes/10**9)"
      ],
      "execution_count": 0,
      "outputs": [
        {
          "output_type": "stream",
          "text": [
            "float32\n",
            "-0.06072371\n",
            "0.5\n",
            "-0.5\n",
            "2.036269056\n"
          ],
          "name": "stdout"
        }
      ]
    },
    {
      "metadata": {
        "id": "TesAy37jxJqR",
        "colab_type": "code",
        "colab": {}
      },
      "cell_type": "code",
      "source": [
        "#Write test data set in hdf5 file.\n",
        "os.chdir('/Users/Family/Documents/Kaggle/Dog breed id/')\n",
        "with h5py.File('testdata.hdf5','w') as f:\n",
        "    f.create_dataset('X_test', data=X_test)"
      ],
      "execution_count": 0,
      "outputs": []
    },
    {
      "metadata": {
        "id": "IbzQ6wNQx9YT",
        "colab_type": "code",
        "colab": {}
      },
      "cell_type": "code",
      "source": [
        "#reading the file from Google Drive (in some cases the \"..\" can be removed)\n",
        "os.chdir('../content/drive/competition/')\n",
        "with h5py.File('traindata.hdf5','r') as f:\n",
        "    X_train = f['X'][()] #the [()] means load all data (part of the data can be extracted from file by specifying - [:100])\n",
        "   \n",
        "    Y_train = f['Y'][()] \n",
        "\n",
        "with h5py.File('testdata.hdf5', 'r') as f:\n",
        "    X_test = f['X_test'][()]"
      ],
      "execution_count": 0,
      "outputs": []
    },
    {
      "metadata": {
        "id": "O6aXKKRQHRav",
        "colab_type": "code",
        "colab": {}
      },
      "cell_type": "code",
      "source": [
        "quit()"
      ],
      "execution_count": 0,
      "outputs": []
    },
    {
      "metadata": {
        "id": "W_-_N47M2eq0",
        "colab_type": "code",
        "colab": {
          "base_uri": "https://localhost:8080/",
          "height": 85
        },
        "outputId": "81859ca3-47f5-4a21-e769-f6f07732bd01"
      },
      "cell_type": "code",
      "source": [
        "#Check memory of Colab.\n",
        "! free -t -m\n"
      ],
      "execution_count": 28,
      "outputs": [
        {
          "output_type": "stream",
          "text": [
            "              total        used        free      shared  buff/cache   available\r\n",
            "Mem:          13029        9534        1465         252        2029        2994\r\n",
            "Swap:             0           0           0\r\n",
            "Total:        13029        9534        1465\r\n"
          ],
          "name": "stdout"
        }
      ]
    },
    {
      "metadata": {
        "id": "jRAnXh_VO4TS",
        "colab_type": "code",
        "colab": {}
      },
      "cell_type": "code",
      "source": [
        "\n",
        "\n",
        "# fix random seed for reproducibility\n",
        "seed = 123\n",
        "numpy.random.seed(seed)\n"
      ],
      "execution_count": 0,
      "outputs": []
    },
    {
      "metadata": {
        "id": "_AL2GsAw1uMO",
        "colab_type": "code",
        "colab": {}
      },
      "cell_type": "code",
      "source": [
        "#Define inception to be used in model Used published configuration for incudption module\n",
        "def inception2BN(x, n = 64):\n",
        "    conv1 = Conv2D(n, 1, padding='same')(x)\n",
        "    conv1 = BatchNormalization()(conv1)\n",
        "    conv1 = Activation('relu')(conv1)\n",
        "    conv2 = Conv2D(n, 1, padding='same')(x)\n",
        "    conv2 = BatchNormalization()(conv2)\n",
        "    conv2 = Activation('relu')(conv2)\n",
        "    conv2 = Conv2D(n, 3, padding='same')(conv2)\n",
        "    conv2 = BatchNormalization()(conv2)\n",
        "    conv2 = Activation('relu')(conv2)    \n",
        "    conv3 = Conv2D(n, 1, padding='same')(x)\n",
        "    conv3 = BatchNormalization()(conv3)\n",
        "    conv3 = Activation('relu')(conv3)    \n",
        "    conv3 = Conv2D(n, 5, padding='same')(conv3)\n",
        "    conv3 = BatchNormalization()(conv3)\n",
        "    conv3 = Activation('relu')(conv3)  \n",
        "    conv4 = MaxPooling2D((3,3), strides=(1, 1), padding='same')(x)    \n",
        "    conv4 = Conv2D(n, 1, padding='same')(conv4)\n",
        "    conv4 = BatchNormalization()(conv4)\n",
        "    conv4 = Activation('relu')(conv4)     \n",
        "\n",
        "    c =  Concatenate(axis=-1)([conv1,conv2,conv3,conv4])\n",
        "    return c"
      ],
      "execution_count": 0,
      "outputs": []
    },
    {
      "metadata": {
        "id": "QAS4tE941ws9",
        "colab_type": "code",
        "colab": {}
      },
      "cell_type": "code",
      "source": [
        "#Model with four layers\n",
        "def model4():\n",
        "    inputs = Input(X_train.shape[1:])\n",
        "    i1 = inception2BN(inputs)\n",
        "    mp1 = MaxPooling2D((2,2))(i1)\n",
        "    i2 = inception2BN(mp1)\n",
        "    mp2 = MaxPooling2D((2,2))(i2) \n",
        "    i3 = inception2BN(mp2)\n",
        "    mp3 = MaxPooling2D((2,2))(i3)\n",
        "    i4 = inception2BN(mp3)\n",
        "    mp4 = MaxPooling2D((2,2))(i4)\n",
        "    i5 = inception2BN(mp4)\n",
        "    mp5 = MaxPooling2D((2,2))(i5)\n",
        "    i6 = inception2BN(mp5)\n",
        "    mp6 = MaxPooling2D((2,2))(i6)\n",
        "    f = Flatten()(mp6)\n",
        "    d = Dense(256)(f)\n",
        "    d = BatchNormalization()(d)\n",
        "    d = Activation('relu')(d)\n",
        "    out = Dense(120, activation='softmax')(d)\n",
        "    model = Model(inputs, out)\n",
        "    return model"
      ],
      "execution_count": 0,
      "outputs": []
    },
    {
      "metadata": {
        "id": "iAEstfe-HcP6",
        "colab_type": "code",
        "colab": {}
      },
      "cell_type": "code",
      "source": [
        "model4.summary()"
      ],
      "execution_count": 0,
      "outputs": []
    },
    {
      "metadata": {
        "id": "8fAhuOESM2Ps",
        "colab_type": "code",
        "colab": {
          "base_uri": "https://localhost:8080/",
          "height": 34
        },
        "outputId": "aca0cb8d-fe9b-4209-dfe0-6e79cd1c1d70"
      },
      "cell_type": "code",
      "source": [
        "print(X_train.shape[:])"
      ],
      "execution_count": 33,
      "outputs": [
        {
          "output_type": "stream",
          "text": [
            "(10222, 128, 128, 3)\n"
          ],
          "name": "stdout"
        }
      ]
    },
    {
      "metadata": {
        "id": "JVuQTlTDZ35k",
        "colab_type": "code",
        "colab": {
          "base_uri": "https://localhost:8080/",
          "height": 34
        },
        "outputId": "e0b822c2-3683-4094-c067-1f02f4635ecc"
      },
      "cell_type": "code",
      "source": [
        "print(X_test.shape[:])"
      ],
      "execution_count": 35,
      "outputs": [
        {
          "output_type": "stream",
          "text": [
            "(10357, 128, 128, 3)\n"
          ],
          "name": "stdout"
        }
      ]
    },
    {
      "metadata": {
        "id": "vY_L5X8-aFfh",
        "colab_type": "code",
        "colab": {
          "base_uri": "https://localhost:8080/",
          "height": 34
        },
        "outputId": "2f074631-f3c5-4ee6-b178-3beef19c4bea"
      },
      "cell_type": "code",
      "source": [
        "print(Y_train.shape[:])"
      ],
      "execution_count": 34,
      "outputs": [
        {
          "output_type": "stream",
          "text": [
            "(10222, 120)\n"
          ],
          "name": "stdout"
        }
      ]
    },
    {
      "metadata": {
        "id": "BEYs6s_Z11GX",
        "colab_type": "code",
        "colab": {
          "base_uri": "https://localhost:8080/",
          "height": 979
        },
        "outputId": "e3ab33f7-fc88-47f3-fe0c-3a232871279e"
      },
      "cell_type": "code",
      "source": [
        "model4 = model4()\n",
        "adam = Adam(lr=0.001)\n",
        "#load checkpoint\n",
        "os.chdir('/content/drive/competition/')#Change directory to where the saved weights file is located\n",
        "model4.load_weights('dogweight.h5')\n",
        "model4.compile(loss= 'categorical_crossentropy' , optimizer= adam , metrics=[ 'accuracy' ])\n",
        "\n",
        "#checkpoint\n",
        "checkpoint = ModelCheckpoint('dogweight.h5', monitor='val_loss', save_best_only=True,mode='max')\n",
        "cb = [checkpoint]\n",
        "\n",
        "# Fit the model\n",
        "t0=time.time()\n",
        "log3 = model4.fit(X_train, Y_train, validation_split=0.25, epochs=20, callbacks=cb, shuffle = True, batch_size=64, verbose=2)\n",
        "t1=time.time()\n",
        "print(t1-t0,\" seconds\")\n",
        "\n",
        "#Plot accuracy\n",
        "plt.plot(log3.history['acc'],'b') \n",
        "plt.plot(log3.history['val_acc'],'r')\n",
        "plt.show()"
      ],
      "execution_count": 36,
      "outputs": [
        {
          "output_type": "stream",
          "text": [
            "Train on 7666 samples, validate on 2556 samples\n",
            "Epoch 1/20\n",
            " - 180s - loss: 4.1505 - acc: 0.0700 - val_loss: 4.4294 - val_acc: 0.0509\n",
            "Epoch 2/20\n",
            " - 172s - loss: 3.6540 - acc: 0.1475 - val_loss: 4.5299 - val_acc: 0.0685\n",
            "Epoch 3/20\n",
            " - 172s - loss: 3.2164 - acc: 0.2391 - val_loss: 4.1282 - val_acc: 0.0962\n",
            "Epoch 4/20\n",
            " - 172s - loss: 2.7454 - acc: 0.3309 - val_loss: 4.2909 - val_acc: 0.0861\n",
            "Epoch 5/20\n",
            " - 172s - loss: 2.2132 - acc: 0.4710 - val_loss: 4.2596 - val_acc: 0.1072\n",
            "Epoch 6/20\n",
            " - 172s - loss: 1.5925 - acc: 0.6460 - val_loss: 4.3367 - val_acc: 0.1142\n",
            "Epoch 7/20\n",
            " - 172s - loss: 0.9522 - acc: 0.8202 - val_loss: 4.5066 - val_acc: 0.1283\n",
            "Epoch 8/20\n",
            " - 172s - loss: 0.4416 - acc: 0.9421 - val_loss: 4.2837 - val_acc: 0.1338\n",
            "Epoch 9/20\n",
            " - 172s - loss: 0.1575 - acc: 0.9920 - val_loss: 4.1839 - val_acc: 0.1553\n",
            "Epoch 10/20\n",
            " - 172s - loss: 0.0531 - acc: 0.9984 - val_loss: 4.2504 - val_acc: 0.1596\n",
            "Epoch 11/20\n",
            " - 172s - loss: 0.0277 - acc: 0.9990 - val_loss: 4.2497 - val_acc: 0.1604\n",
            "Epoch 12/20\n",
            " - 172s - loss: 0.0208 - acc: 0.9990 - val_loss: 4.2817 - val_acc: 0.1628\n",
            "Epoch 13/20\n",
            " - 172s - loss: 0.0185 - acc: 0.9990 - val_loss: 4.3158 - val_acc: 0.1569\n",
            "Epoch 14/20\n",
            " - 172s - loss: 0.0130 - acc: 0.9992 - val_loss: 4.3611 - val_acc: 0.1596\n",
            "Epoch 15/20\n",
            " - 172s - loss: 0.0123 - acc: 0.9991 - val_loss: 4.3650 - val_acc: 0.1647\n",
            "Epoch 16/20\n",
            " - 172s - loss: 0.0127 - acc: 0.9990 - val_loss: 4.4052 - val_acc: 0.1573\n",
            "Epoch 17/20\n",
            " - 172s - loss: 0.0112 - acc: 0.9990 - val_loss: 4.3968 - val_acc: 0.1674\n",
            "Epoch 18/20\n",
            " - 172s - loss: 0.0108 - acc: 0.9990 - val_loss: 4.4056 - val_acc: 0.1624\n",
            "Epoch 19/20\n",
            " - 172s - loss: 0.0085 - acc: 0.9991 - val_loss: 4.4436 - val_acc: 0.1612\n",
            "Epoch 20/20\n",
            " - 172s - loss: 0.0090 - acc: 0.9991 - val_loss: 4.4762 - val_acc: 0.1592\n",
            "3507.9382662773132  seconds\n"
          ],
          "name": "stdout"
        },
        {
          "output_type": "display_data",
          "data": {
            "image/png": "[encoded data removed]",
            "text/plain": [
              "<matplotlib.figure.Figure at 0x7fa554f9d780>"
            ]
          },
          "metadata": {
            "tags": []
          }
        }
      ]
    },
    {
      "metadata": {
        "id": "xd0tnn2i4Xxa",
        "colab_type": "code",
        "colab": {}
      },
      "cell_type": "code",
      "source": [
        "#Define Real time data augmentation\n",
        "datagen = ImageDataGenerator(\n",
        "    featurewise_center=True,\n",
        "    featurewise_std_normalization=True,\n",
        "    rotation_range=20,\n",
        "    width_shift_range=0.2,\n",
        "    height_shift_range=0.2,\n",
        "    horizontal_flip=True,\n",
        "    validation_split=0.2)\n"
      ],
      "execution_count": 0,
      "outputs": []
    },
    {
      "metadata": {
        "id": "6vsyc_OyBmPy",
        "colab_type": "code",
        "colab": {}
      },
      "cell_type": "code",
      "source": [
        "#Define parameter to augment\n",
        "datagen.fit(X_train)\n"
      ],
      "execution_count": 0,
      "outputs": []
    },
    {
      "metadata": {
        "id": "YnPR55IsCKb4",
        "colab_type": "code",
        "colab": {
          "base_uri": "https://localhost:8080/",
          "height": 1734
        },
        "outputId": "dffb9f66-aee9-41ce-dd89-f1365d424416"
      },
      "cell_type": "code",
      "source": [
        "#Use model4 to fit an augmented set of dog pictures \n",
        "model4.fit_generator(datagen.flow(X_train, Y_train, batch_size=32),\n",
        "                    steps_per_epoch=len(X_train) / 32, epochs=50)\n",
        "#plt.plot(log4.history['acc'],'b') \n",
        "#plt.plot(log4.history['val_acc'],'r')\n",
        "#plt.show()\n"
      ],
      "execution_count": 39,
      "outputs": [
        {
          "output_type": "stream",
          "text": [
            "Epoch 1/50\n",
            "320/319 [==============================] - 225s 703ms/step - loss: 4.3880 - acc: 0.0734\n",
            "Epoch 2/50\n",
            "320/319 [==============================] - 221s 691ms/step - loss: 3.6834 - acc: 0.1345\n",
            "Epoch 3/50\n",
            " 32/319 [==>...........................] - ETA: 3:19 - loss: 3.4321 - acc: 0.1621"
          ],
          "name": "stdout"
        },
        {
          "output_type": "stream",
          "text": [
            "320/319 [==============================] - 221s 691ms/step - loss: 3.3948 - acc: 0.1778\n",
            "Epoch 4/50\n",
            "320/319 [==============================] - 221s 690ms/step - loss: 3.1749 - acc: 0.2187\n",
            "Epoch 5/50\n",
            " 67/319 [=====>........................] - ETA: 2:53 - loss: 2.9769 - acc: 0.2597"
          ],
          "name": "stdout"
        },
        {
          "output_type": "stream",
          "text": [
            "320/319 [==============================] - 221s 691ms/step - loss: 2.9746 - acc: 0.2557\n",
            "Epoch 6/50\n",
            "320/319 [==============================] - 221s 691ms/step - loss: 2.8128 - acc: 0.2843\n",
            "Epoch 7/50\n",
            " 77/319 [======>.......................] - ETA: 2:47 - loss: 2.6149 - acc: 0.3206"
          ],
          "name": "stdout"
        },
        {
          "output_type": "stream",
          "text": [
            "320/319 [==============================] - 221s 690ms/step - loss: 2.6952 - acc: 0.3145\n",
            "Epoch 8/50\n",
            "320/319 [==============================] - 221s 691ms/step - loss: 2.5521 - acc: 0.3361\n",
            "Epoch 9/50\n",
            " 80/319 [======>.......................] - ETA: 2:44 - loss: 2.3494 - acc: 0.3810"
          ],
          "name": "stdout"
        },
        {
          "output_type": "stream",
          "text": [
            "320/319 [==============================] - 221s 690ms/step - loss: 2.4130 - acc: 0.3637\n",
            "Epoch 10/50\n",
            "320/319 [==============================] - 221s 691ms/step - loss: 2.3207 - acc: 0.3822\n",
            "Epoch 11/50\n",
            " 79/319 [======>.......................] - ETA: 2:46 - loss: 2.0767 - acc: 0.4316"
          ],
          "name": "stdout"
        },
        {
          "output_type": "stream",
          "text": [
            "320/319 [==============================] - 221s 690ms/step - loss: 2.2040 - acc: 0.4081\n",
            "Epoch 12/50\n",
            "320/319 [==============================] - 221s 690ms/step - loss: 2.1019 - acc: 0.4304\n",
            "Epoch 13/50\n",
            " 79/319 [======>.......................] - ETA: 2:46 - loss: 1.9498 - acc: 0.4648"
          ],
          "name": "stdout"
        },
        {
          "output_type": "stream",
          "text": [
            "320/319 [==============================] - 221s 691ms/step - loss: 2.0078 - acc: 0.4567\n",
            "Epoch 14/50\n",
            "320/319 [==============================] - 221s 691ms/step - loss: 1.9034 - acc: 0.4803\n",
            "Epoch 15/50\n",
            " 79/319 [======>.......................] - ETA: 2:46 - loss: 1.6844 - acc: 0.5233"
          ],
          "name": "stdout"
        },
        {
          "output_type": "stream",
          "text": [
            "320/319 [==============================] - 220s 689ms/step - loss: 1.8088 - acc: 0.4935\n",
            "Epoch 16/50\n",
            "320/319 [==============================] - 220s 689ms/step - loss: 1.7193 - acc: 0.5141\n",
            "Epoch 17/50\n",
            " 79/319 [======>.......................] - ETA: 2:46 - loss: 1.5338 - acc: 0.5578"
          ],
          "name": "stdout"
        },
        {
          "output_type": "stream",
          "text": [
            "320/319 [==============================] - 221s 691ms/step - loss: 1.6284 - acc: 0.5405\n",
            "Epoch 18/50\n",
            "320/319 [==============================] - 221s 690ms/step - loss: 1.5380 - acc: 0.5656\n",
            "Epoch 19/50\n",
            " 79/319 [======>.......................] - ETA: 2:45 - loss: 1.3447 - acc: 0.6052"
          ],
          "name": "stdout"
        },
        {
          "output_type": "stream",
          "text": [
            "320/319 [==============================] - 221s 690ms/step - loss: 1.4806 - acc: 0.5763\n",
            "Epoch 20/50\n",
            "320/319 [==============================] - 221s 690ms/step - loss: 1.4038 - acc: 0.5916\n",
            "Epoch 21/50\n",
            " 79/319 [======>.......................] - ETA: 2:46 - loss: 1.2285 - acc: 0.6555"
          ],
          "name": "stdout"
        },
        {
          "output_type": "stream",
          "text": [
            "320/319 [==============================] - 221s 689ms/step - loss: 1.3369 - acc: 0.6165\n",
            "Epoch 22/50\n",
            "320/319 [==============================] - 220s 689ms/step - loss: 1.2828 - acc: 0.6280\n",
            "Epoch 23/50\n",
            " 79/319 [======>.......................] - ETA: 2:46 - loss: 1.0778 - acc: 0.6887"
          ],
          "name": "stdout"
        },
        {
          "output_type": "stream",
          "text": [
            "320/319 [==============================] - 220s 689ms/step - loss: 1.2127 - acc: 0.6434\n",
            "Epoch 24/50\n",
            "320/319 [==============================] - 221s 690ms/step - loss: 1.1552 - acc: 0.6588\n",
            "Epoch 25/50\n",
            " 79/319 [======>.......................] - ETA: 2:46 - loss: 0.9788 - acc: 0.7061"
          ],
          "name": "stdout"
        },
        {
          "output_type": "stream",
          "text": [
            "320/319 [==============================] - 221s 690ms/step - loss: 1.0774 - acc: 0.6786\n",
            "Epoch 26/50\n",
            "320/319 [==============================] - 221s 690ms/step - loss: 1.0366 - acc: 0.6920\n",
            "Epoch 27/50\n",
            " 79/319 [======>.......................] - ETA: 2:45 - loss: 0.8986 - acc: 0.7354"
          ],
          "name": "stdout"
        },
        {
          "output_type": "stream",
          "text": [
            "320/319 [==============================] - 221s 689ms/step - loss: 1.0030 - acc: 0.6996\n",
            "Epoch 28/50\n",
            "320/319 [==============================] - 221s 690ms/step - loss: 0.9430 - acc: 0.7162\n",
            "Epoch 29/50\n",
            " 79/319 [======>.......................] - ETA: 2:46 - loss: 0.8267 - acc: 0.7547"
          ],
          "name": "stdout"
        },
        {
          "output_type": "stream",
          "text": [
            "320/319 [==============================] - 221s 689ms/step - loss: 0.8989 - acc: 0.7317\n",
            "Epoch 30/50\n",
            "320/319 [==============================] - 221s 690ms/step - loss: 0.8849 - acc: 0.7324\n",
            "Epoch 31/50\n",
            " 79/319 [======>.......................] - ETA: 2:46 - loss: 0.7075 - acc: 0.7864"
          ],
          "name": "stdout"
        },
        {
          "output_type": "stream",
          "text": [
            "320/319 [==============================] - 221s 690ms/step - loss: 0.8179 - acc: 0.7475\n",
            "Epoch 32/50\n",
            "320/319 [==============================] - 221s 689ms/step - loss: 0.8004 - acc: 0.7573\n",
            "Epoch 33/50\n",
            " 79/319 [======>.......................] - ETA: 2:46 - loss: 0.7184 - acc: 0.7836"
          ],
          "name": "stdout"
        },
        {
          "output_type": "stream",
          "text": [
            "320/319 [==============================] - 221s 689ms/step - loss: 0.7756 - acc: 0.7633\n",
            "Epoch 34/50\n",
            "320/319 [==============================] - 221s 690ms/step - loss: 0.7222 - acc: 0.7810\n",
            "Epoch 35/50\n",
            " 79/319 [======>.......................] - ETA: 2:46 - loss: 0.6097 - acc: 0.8172"
          ],
          "name": "stdout"
        },
        {
          "output_type": "stream",
          "text": [
            "320/319 [==============================] - 221s 689ms/step - loss: 0.6989 - acc: 0.7903\n",
            "Epoch 36/50\n",
            "320/319 [==============================] - 221s 689ms/step - loss: 0.6665 - acc: 0.7999\n",
            "Epoch 37/50\n",
            " 79/319 [======>.......................] - ETA: 2:46 - loss: 0.6016 - acc: 0.8062"
          ],
          "name": "stdout"
        },
        {
          "output_type": "stream",
          "text": [
            "320/319 [==============================] - 221s 690ms/step - loss: 0.6536 - acc: 0.7950\n",
            "Epoch 38/50\n",
            "320/319 [==============================] - 221s 690ms/step - loss: 0.6363 - acc: 0.8045\n",
            "Epoch 39/50\n",
            " 79/319 [======>.......................] - ETA: 2:46 - loss: 0.5428 - acc: 0.8331"
          ],
          "name": "stdout"
        },
        {
          "output_type": "stream",
          "text": [
            "320/319 [==============================] - 221s 690ms/step - loss: 0.5889 - acc: 0.8211\n",
            "Epoch 40/50\n",
            "320/319 [==============================] - 221s 689ms/step - loss: 0.6043 - acc: 0.8110\n",
            "Epoch 41/50\n",
            " 79/319 [======>.......................] - ETA: 2:45 - loss: 0.4950 - acc: 0.8546"
          ],
          "name": "stdout"
        },
        {
          "output_type": "stream",
          "text": [
            "320/319 [==============================] - 221s 690ms/step - loss: 0.5747 - acc: 0.8267\n",
            "Epoch 42/50\n",
            "320/319 [==============================] - 220s 689ms/step - loss: 0.5635 - acc: 0.8245\n",
            "Epoch 43/50\n",
            " 79/319 [======>.......................] - ETA: 2:46 - loss: 0.4472 - acc: 0.8651"
          ],
          "name": "stdout"
        },
        {
          "output_type": "stream",
          "text": [
            "320/319 [==============================] - 221s 689ms/step - loss: 0.5309 - acc: 0.8350\n",
            "Epoch 44/50\n",
            "320/319 [==============================] - 221s 689ms/step - loss: 0.5160 - acc: 0.8407\n",
            "Epoch 45/50\n",
            " 79/319 [======>.......................] - ETA: 2:46 - loss: 0.4750 - acc: 0.8505"
          ],
          "name": "stdout"
        },
        {
          "output_type": "stream",
          "text": [
            "320/319 [==============================] - 220s 689ms/step - loss: 0.5179 - acc: 0.8377\n",
            "Epoch 46/50\n",
            "320/319 [==============================] - 221s 689ms/step - loss: 0.5014 - acc: 0.8450\n",
            "Epoch 47/50\n",
            " 79/319 [======>.......................] - ETA: 2:46 - loss: 0.4280 - acc: 0.8616"
          ],
          "name": "stdout"
        },
        {
          "output_type": "stream",
          "text": [
            "320/319 [==============================] - 221s 690ms/step - loss: 0.4788 - acc: 0.8470\n",
            "Epoch 48/50\n",
            "320/319 [==============================] - 221s 690ms/step - loss: 0.4898 - acc: 0.8493\n",
            "Epoch 49/50\n",
            " 79/319 [======>.......................] - ETA: 2:46 - loss: 0.4289 - acc: 0.8655"
          ],
          "name": "stdout"
        },
        {
          "output_type": "stream",
          "text": [
            "320/319 [==============================] - 221s 690ms/step - loss: 0.4565 - acc: 0.8577\n",
            "Epoch 50/50\n",
            "320/319 [==============================] - 221s 690ms/step - loss: 0.4510 - acc: 0.8577\n"
          ],
          "name": "stdout"
        },
        {
          "output_type": "execute_result",
          "data": {
            "text/plain": [
              "<keras.callbacks.History at 0x7fa5517611d0>"
            ]
          },
          "metadata": {
            "tags": []
          },
          "execution_count": 39
        }
      ]
    },
    {
      "metadata": {
        "id": "XZtOjygNjtnD",
        "colab_type": "code",
        "colab": {
          "base_uri": "https://localhost:8080/",
          "height": 34
        },
        "outputId": "d7488e5b-f861-4c4b-9b63-5a489ca38f01"
      },
      "cell_type": "code",
      "source": [
        "#Create prediction using model against the X_test. Does not need a predict genorator because the size of X_test can fit in memory\n",
        "X_test_pred = model4.predict(X_test, verbose=1)\n"
      ],
      "execution_count": 40,
      "outputs": [
        {
          "output_type": "stream",
          "text": [
            "10357/10357 [==============================] - 92s 9ms/step\n"
          ],
          "name": "stdout"
        }
      ]
    },
    {
      "metadata": {
        "id": "a2By63hRi6ho",
        "colab_type": "code",
        "colab": {}
      },
      "cell_type": "code",
      "source": [
        "#create prediction file for submission\n",
        "pred = pd.DataFrame(X_test_pred, index = test_files, columns=breeds)\n",
        "pred.to_csv('dogbreed_subm.csv',index=True)"
      ],
      "execution_count": 0,
      "outputs": []
    }
  ]
}